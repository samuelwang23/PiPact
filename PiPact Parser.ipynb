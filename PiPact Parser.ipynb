{
 "cells": [
  {
   "cell_type": "code",
   "execution_count": 1,
   "metadata": {},
   "outputs": [
    {
     "name": "stderr",
     "output_type": "stream",
     "text": [
      "Cloning into 'MIT-Matrix-Data'...\n"
     ]
    }
   ],
   "source": [
    "#!git clone https://github.com/mitll/MIT-Matrix-Data.git"
   ]
  },
  {
   "cell_type": "code",
   "execution_count": 63,
   "metadata": {},
   "outputs": [],
   "source": [
    "import pandas as pd\n",
    "import os\n",
    "directory = r'C:\\Users\\swang\\MIT-Matrix-Data'\n",
    "grandparent = r'C:\\Users\\swang\\LoggedMatrixData'\n",
    "for folder in os.listdir(directory):\n",
    "    if(folder.endswith(\".md\") != True and folder[0] != '.'):\n",
    "        newParent = os.path.join(grandparent, folder)\n",
    "        os.makedirs(newParent)\n",
    "        parent = os.path.join(directory,folder)\n",
    "        for file in os.listdir(parent):\n",
    "            if(file.endswith(\".md\") != True and file[0] != '.'):\n",
    "                child = os.path.join(newParent,os.path.splitext(file)[0])\n",
    "                \n",
    "                #relPath = os.path.join(newParent,os.path.splitext(file)[0].split(folder + '_')[1])\n",
    "                #os.makedirs(relPath)\n",
    "                splitting = os.path.splitext(file)[0].split(folder + '_')\n",
    "                relPath = os.path.join(newParent, splitting[len(splitting)-1])\n",
    "                os.makedirs(relPath)\n",
    "                filepath = os.path.join(parent,file)\n",
    "                \n",
    "                f = open(filepath,\"r\")\n",
    "                #This is very wasteful, is there a Pythonic way that doesn't use this much memory? \n",
    "                txt = list(x for x in f)\n",
    "                s = set(x.split(',')[1] for x in txt)\n",
    "                d = {x : list() for x in s}\n",
    "                for x in txt:\n",
    "                    split = x.split(',')\n",
    "                    d[split[1]].append(x)\n",
    "                f.close()\n",
    "                #os.makedirs(os.path.join(relPath,\"logs\"))\n",
    "                for x in d:\n",
    "                    path = os.path.join(relPath,x + \".csv\")\n",
    "                    #print(path)\n",
    "                    f = open(path, \"w\")\n",
    "                    for i in d[x]:\n",
    "                        f.write(i)\n",
    "                    f.close()"
   ]
  }
 ],
 "metadata": {
  "kernelspec": {
   "display_name": "Python 3",
   "language": "python",
   "name": "python3"
  },
  "language_info": {
   "codemirror_mode": {
    "name": "ipython",
    "version": 3
   },
   "file_extension": ".py",
   "mimetype": "text/x-python",
   "name": "python",
   "nbconvert_exporter": "python",
   "pygments_lexer": "ipython3",
   "version": "3.7.6"
  }
 },
 "nbformat": 4,
 "nbformat_minor": 4
}
