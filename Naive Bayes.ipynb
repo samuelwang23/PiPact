{
 "cells": [
  {
   "cell_type": "code",
   "execution_count": null,
   "metadata": {},
   "outputs": [],
   "source": [
    "import numpy as np\n",
    "import pandas as pd\n",
    "from sklearn.metrics import roc_auc_score\n",
    "from sklearn.model_selection import train_test_split\n",
    "from sklearn.naive_bayes import GaussianNB\n",
    "from sklearn.metrics import plot_roc_curve\n",
    "from datetime import datetime\n",
    "from sklearn.metrics import f1_score\n",
    "from sklearn.metrics import precision_score\n",
    "from sklearn.metrics import recall_score\n",
    "from joblib import dump"
   ]
  },
  {
   "cell_type": "code",
   "execution_count": null,
   "metadata": {
    "scrolled": true
   },
   "outputs": [],
   "source": [
    "#Read in the data\n",
    "df = pd.read_csv(\"../Logged-Matrix-Data.csv\")\n",
    "X = df[['Bluetooth-2','Accelerometer-1', 'Accelerometer-2', 'Accelerometer-3', 'Gyroscope-1', 'Gyroscope-2', 'Gyroscope-3']]\n",
    "df[['Distance']] = df[['Distance']].values > 6\n",
    "y = df[['Distance']]\n",
    "\n",
    "#Split the training and test data\n",
    "X_train, X_test, y_train, y_test = train_test_split(X, y)\n",
    "#Series where metrics are stored\n",
    "s = pd.Series(index = [\"id\", \"validation score\", \"auc\", \"f-measure\", \"precision\", \"recall\"])"
   ]
  },
  {
   "cell_type": "code",
   "execution_count": null,
   "metadata": {},
   "outputs": [],
   "source": [
    "#Call the model\n",
    "model = GaussianNB()\n",
    "#Train the model\n",
    "model.fit(X_train, y_train)\n",
    "#Test the model\n",
    "y_hats = model.predict(X_test)\n",
    "plot_roc_curve(model,X_test, y_test['Distance'])\n",
    "#Collect and print model metrics\n",
    "s[\"validation score\"] = roc_auc_score(y_test['Distance'], y_hats)\n",
    "print(s[\"validation score\"])"
   ]
  },
  {
   "cell_type": "code",
   "execution_count": null,
   "metadata": {},
   "outputs": [],
   "source": [
    "#Set the IDs for the model\n",
    "model_name = \"Naive_Bayes\"\n",
    "dateId = datetime.now().strftime('%m_%d_%Y_%H_%M_%S')\n",
    "#Read in the pi data for validation\n",
    "df_test = pd.read_csv(\"../Pi_Distance_Data.csv\")\n",
    "X_pi = df_test[['RSSI','ax','ay','az','gx','gy','gz']]\n",
    "df_test[['Distance']] = df_test[['Distance']].values > 6\n",
    "y_pi = df_test[['Distance']]\n",
    "y_hats = model.predict(X_pi)\n",
    "#Collect and print the model metrics\n",
    "s[\"auc\"] = roc_auc_score(y_pi['Distance'], y_hats)\n",
    "print(s[\"auc\"])\n",
    "plot_roc_curve(model,X_pi, y_pi['Distance'])\n",
    "s[\"id\"] = dateId\n",
    "s[\"f-measure\"] = f1_score(y_pi['Distance'], y_hats)\n",
    "print(s[\"f-measure\"])\n",
    "s[\"precision\"] = precision_score(y_pi['Distance'], y_hats)\n",
    "print(s[\"precision\"])\n",
    "s[\"recall\"] = recall_score(y_pi['Distance'], y_hats)\n",
    "print(s[\"recall\"])\n",
    "#Append this data to the CSV\n",
    "pd.DataFrame(s).T.to_csv(model_name+\".csv\", mode =\"a\", index=False, header = False)\n",
    "#Pickle the model\n",
    "dump(model, \"saved/\" + model_name+'/' + dateId + \"_\" + str(s[\"auc\"]) + '.joblib')"
   ]
  }
 ],
 "metadata": {
  "kernelspec": {
   "display_name": "Python 3",
   "language": "python",
   "name": "python3"
  },
  "language_info": {
   "codemirror_mode": {
    "name": "ipython",
    "version": 3
   },
   "file_extension": ".py",
   "mimetype": "text/x-python",
   "name": "python",
   "nbconvert_exporter": "python",
   "pygments_lexer": "ipython3",
   "version": "3.7.6"
  }
 },
 "nbformat": 4,
 "nbformat_minor": 4
}
